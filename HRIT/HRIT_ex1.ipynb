{
 "cells": [
  {
   "cell_type": "code",
   "execution_count": 2,
   "metadata": {},
   "outputs": [
    {
     "name": "stdout",
     "output_type": "stream",
     "text": [
      "2750*2750: 7562500 1/10 segment from fileis:  756250\n"
     ]
    },
    {
     "data": {
      "image/png": "[encoded data removed]",
      "text/plain": [
       "<matplotlib.figure.Figure at 0x113cc470>"
      ]
     },
     "metadata": {},
     "output_type": "display_data"
    }
   ],
   "source": [
    "# -*- coding: utf-8 -*-\n",
    "\"\"\"\n",
    "Created on Mon Jul 23 21:12:32 2018\n",
    "\n",
    "@author: Administrator\n",
    "\"\"\"\n",
    "\n",
    "import struct\n",
    "import numpy as np\n",
    "import matplotlib.pyplot as plt\n",
    "\n",
    "fin = open('IMG_DK01B04_201709270000_001', 'rb') # 打开读入二进制文件.\n",
    "#读第一个header\n",
    "buf = fin.read(1)\n",
    "buf = fin.read(2)\n",
    "buf = fin.read(1)\n",
    "buf = fin.read(4)\n",
    "tmp=struct.unpack('4B', buf)\n",
    "tmp_dis=tmp\n",
    "Total_Header_Length=tmp[0]*pow(256,3)+tmp[1]*pow(256,2)+tmp[2]*pow(256,1)+tmp[3]*pow(256,0)\n",
    "######\n",
    "buf = fin.read(8)\n",
    "tmp=struct.unpack('8B', buf)\n",
    "Data_Field_Leng=tmp[0]*pow(256,7)+tmp[1]*pow(256,6)+tmp[2]*pow(256,5)+tmp[3]*pow(256,4)+tmp[4]*pow(256,3)+tmp[5]*pow(256,2)+tmp[6]*pow(256,1)+tmp[7]*pow(256,0)\n",
    "#读Image structure第二个header\n",
    "fin.seek(16,0)\n",
    "buf = fin.read(1)\n",
    "tmp=struct.unpack('1B', buf)\n",
    "a2_1=tmp [0]\n",
    "\n",
    "buf = fin.read(2)\n",
    "tmp=struct.unpack('2B', buf)\n",
    "a2_2=tmp[0]*256+tmp[1] \n",
    "\n",
    "buf = fin.read(1)\n",
    "tmp=struct.unpack('1B', buf)\n",
    "NB=tmp[0]\n",
    "\n",
    "buf = fin.read(2)\n",
    "tmp=struct.unpack('2B', buf)\n",
    "NC=tmp[0]*256+tmp[1]\n",
    "\n",
    "buf = fin.read(2)\n",
    "tmp=struct.unpack('2B', buf)\n",
    "NL=tmp[0]*256+tmp[1]\n",
    "\n",
    "buf = fin.read(1)\n",
    "######\n",
    "###验证HIRT bytes总数无误\n",
    "num_ref=2750*2750\n",
    "num_data=int(  (Data_Field_Leng/8)/2  )# 8 bits2bytes   16bits(2bytes) per pixel\n",
    "print(\"2750*2750:\",num_ref,\"1/10 segment from fileis: \",num_data)\n",
    "n_all_byte=Total_Header_Length+int(Data_Field_Leng/8)\n",
    "fin.seek(0,0)\n",
    "buf = fin.read(n_all_byte)\n",
    "buf_dis = fin.read(1)\n",
    "#######\n",
    "###读取数据\n",
    "fin.seek(Total_Header_Length,0)\n",
    "dat_ori=np.zeros(NC*NL)\n",
    "for i in range(NC*NL):\n",
    "    buf = fin.read(2)\n",
    "    tmp=struct.unpack('2B', buf)\n",
    "    val=tmp[0]*256+tmp[1]\n",
    "    dat_ori[i]=val\n",
    "#dat_ori=np.asfortranarray(dat_ori)\n",
    "dat=dat_ori.reshape([NL,NC])\n",
    "#dat=np.zeros([NC,NL])\n",
    "#for i in range(NC):\n",
    "#    for j in range(NL):\n",
    "#        dat[i,j]=dat_ori[i+NC*(j-1)]\n",
    "plt.imshow(dat)\n",
    "plt.show()\n",
    "\n",
    "fin.close()"
   ]
  },
  {
   "cell_type": "code",
   "execution_count": null,
   "metadata": {},
   "outputs": [],
   "source": []
  }
 ],
 "metadata": {
  "kernelspec": {
   "display_name": "Python 3",
   "language": "python",
   "name": "python3"
  },
  "language_info": {
   "codemirror_mode": {
    "name": "ipython",
    "version": 3
   },
   "file_extension": ".py",
   "mimetype": "text/x-python",
   "name": "python",
   "nbconvert_exporter": "python",
   "pygments_lexer": "ipython3",
   "version": "3.6.4"
  }
 },
 "nbformat": 4,
 "nbformat_minor": 2
}
